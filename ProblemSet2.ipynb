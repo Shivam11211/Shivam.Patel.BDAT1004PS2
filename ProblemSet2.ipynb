{
 "cells": [
  {
   "cell_type": "markdown",
   "id": "3f0da98c",
   "metadata": {},
   "source": [
    "# Problem Set 2\n",
    "\n"
   ]
  },
  {
   "cell_type": "markdown",
   "id": "75008ff8",
   "metadata": {},
   "source": [
    "# Question 1"
   ]
  },
  {
   "cell_type": "code",
   "execution_count": 151,
   "id": "7c8066ac",
   "metadata": {},
   "outputs": [
    {
     "data": {
      "text/plain": [
       "6"
      ]
     },
     "execution_count": 151,
     "metadata": {},
     "output_type": "execute_result"
    }
   ],
   "source": [
    "a = 0\n",
    "def b():\n",
    " global a\n",
    " a = c(a)\n",
    "def c(a):\n",
    " return a + 2\n",
    "\n",
    "b()\n",
    "b()\n",
    "b()\n",
    "a\n",
    "\n",
    "\n",
    "#In  first step it shows result 0\n",
    "#in second step it show sresult 0+2 =2\n",
    "#in Third step it show result 2+2 =4\n",
    "#in fina step 4+2 =6"
   ]
  },
  {
   "cell_type": "markdown",
   "id": "d864c4ee",
   "metadata": {},
   "source": [
    "# Question 2"
   ]
  },
  {
   "cell_type": "code",
   "execution_count": 15,
   "id": "ee52d299",
   "metadata": {},
   "outputs": [
    {
     "name": "stdout",
     "output_type": "stream",
     "text": [
      "Enter the file name:idterm.py\n",
      "File idterm.py not found.\n"
     ]
    }
   ],
   "source": [
    "def fileLength(filename):#defining function\n",
    "    try:\n",
    "        file = open(filename,'r')#open filename and read the content\n",
    "        contents = file.read()\n",
    "        file.close()\n",
    "        print(len(contents))#find length of content in file\n",
    "    except FileNotFoundError as file_error_customized:#error handling\n",
    "        print('File {} not found.'.format(filename))#error message\n",
    "File__Name=input(\"Enter the file name:\")\n",
    "fileLength(File__Name)"
   ]
  },
  {
   "cell_type": "markdown",
   "id": "08de2830",
   "metadata": {},
   "source": [
    "# Question 4"
   ]
  },
  {
   "cell_type": "code",
   "execution_count": 20,
   "id": "3df3412f",
   "metadata": {},
   "outputs": [
    {
     "name": "stdout",
     "output_type": "stream",
     "text": [
      "Enter number: 10\n",
      "5\n",
      "16\n",
      "8\n",
      "4\n",
      "2\n",
      "1\n"
     ]
    }
   ],
   "source": [
    "\n",
    "def collatz(number):#defining function collatz\n",
    "\n",
    "    if number % 2 == 0:\n",
    "        print(number // 2)\n",
    "        return number // 2\n",
    "\n",
    "    elif number % 2 == 1:\n",
    "        result = 3 * number + 1\n",
    "        print(result)\n",
    "        return result\n",
    "\n",
    "n = input(\"Enter number: \")\n",
    "while n != 1:\n",
    "    n=collatz(int(n))"
   ]
  },
  {
   "cell_type": "markdown",
   "id": "3c794e7e",
   "metadata": {},
   "source": [
    "# Question 5"
   ]
  },
  {
   "cell_type": "code",
   "execution_count": 22,
   "id": "d081d193",
   "metadata": {
    "scrolled": true
   },
   "outputs": [
    {
     "name": "stdout",
     "output_type": "stream",
     "text": [
      "Give me a number: 0\n",
      "0\n"
     ]
    }
   ],
   "source": [
    "def Binary(n):#def function binary\n",
    "    \n",
    "   if n > 1:\n",
    "       Binary(n//2)\n",
    "   print(n % 2,end = '')\n",
    "\n",
    "#decimalnumber\n",
    "n = input(\"Give me a number: \")\n",
    "\n",
    "Binary(int(n))\n",
    "print()"
   ]
  },
  {
   "cell_type": "code",
   "execution_count": 23,
   "id": "ce64aadd",
   "metadata": {},
   "outputs": [
    {
     "name": "stdout",
     "output_type": "stream",
     "text": [
      "Give me a number: 1\n",
      "1\n"
     ]
    }
   ],
   "source": [
    "def Binary(n):#def function binary\n",
    "    \n",
    "   if n > 1:\n",
    "       Binary(n//2)\n",
    "   print(n % 2,end = '')\n",
    "\n",
    "#decimalnumber\n",
    "n = input(\"Give me a number: \")\n",
    "\n",
    "Binary(int(n))\n",
    "print()"
   ]
  },
  {
   "cell_type": "code",
   "execution_count": 24,
   "id": "9b695946",
   "metadata": {},
   "outputs": [
    {
     "name": "stdout",
     "output_type": "stream",
     "text": [
      "Give me a number: 3\n",
      "11\n"
     ]
    }
   ],
   "source": [
    "def Binary(n):#def function binary\n",
    "    \n",
    "   if n > 1:\n",
    "       Binary(n//2)\n",
    "   print(n % 2,end = '')\n",
    "\n",
    "#decimalnumber\n",
    "n = input(\"Give me a number: \")\n",
    "\n",
    "Binary(int(n))\n",
    "print()"
   ]
  },
  {
   "cell_type": "code",
   "execution_count": 25,
   "id": "c6801620",
   "metadata": {
    "scrolled": true
   },
   "outputs": [
    {
     "name": "stdout",
     "output_type": "stream",
     "text": [
      "Give me a number: 9\n",
      "1001\n"
     ]
    }
   ],
   "source": [
    "def Binary(n):#def function binary\n",
    "    \n",
    "   if n > 1:\n",
    "       Binary(n//2)\n",
    "   print(n % 2,end = '')\n",
    "\n",
    "#decimalnumber\n",
    "n = input(\"Give me a number: \")\n",
    "\n",
    "Binary(int(n))\n",
    "print()"
   ]
  },
  {
   "cell_type": "markdown",
   "id": "799f908d",
   "metadata": {},
   "source": [
    "# Question 8"
   ]
  },
  {
   "cell_type": "code",
   "execution_count": 123,
   "id": "71e227b1",
   "metadata": {},
   "outputs": [
    {
     "data": {
      "text/plain": [
       "[('Mumbai', 'India', 'Winter', 24.8, 5.9),\n",
       " ('Mumbai', 'India', 'Spring', 28.4, 16.2),\n",
       " ('Mumbai', 'India', 'Summer', 27.9, 1549.4),\n",
       " ('Mumbai', 'India', 'Fall', 27.6, 346.0),\n",
       " ('London', 'United Kingdom', 'Winter', 4.2, 207.7),\n",
       " ('London', 'United Kingdom', 'Spring', 8.3, 169.6),\n",
       " ('London', 'United Kingdom', 'Summer', 15.7, 157.0),\n",
       " ('London', 'United Kingdom', 'Fall', 10.4, 218.5),\n",
       " ('Cairo', 'Egypt', 'Winter', 13.6, 16.5),\n",
       " ('Cairo', 'Egypt', 'Spring', 20.7, 6.5),\n",
       " ('Cairo', 'Egypt', 'Summer', 27.7, 0.1),\n",
       " ('Cairo', 'Egypt', 'Fall', 22.2, 4.5)]"
      ]
     },
     "execution_count": 123,
     "metadata": {},
     "output_type": "execute_result"
    }
   ],
   "source": [
    "con = sqlite3.connect('Test.db')\n",
    "cur = con.cursor()\n",
    "cur.execute('SELECT city,country,season,temperature,rainfall FROM ProblemSet')\n",
    "cur.fetchall()"
   ]
  },
  {
   "cell_type": "code",
   "execution_count": 105,
   "id": "7dbf21a4",
   "metadata": {},
   "outputs": [
    {
     "data": {
      "text/plain": [
       "[(24.8,),\n",
       " (28.4,),\n",
       " (27.9,),\n",
       " (27.6,),\n",
       " (4.2,),\n",
       " (8.3,),\n",
       " (15.7,),\n",
       " (10.4,),\n",
       " (13.6,),\n",
       " (20.7,),\n",
       " (27.7,),\n",
       " (22.2,)]"
      ]
     },
     "execution_count": 105,
     "metadata": {},
     "output_type": "execute_result"
    }
   ],
   "source": [
    "con = sqlite3.connect('Test.db')\n",
    "cur = con.cursor()\n",
    "cur.execute('SELECT  temperature FROM ProblemSet')\n",
    "cur.fetchall()"
   ]
  },
  {
   "cell_type": "code",
   "execution_count": 108,
   "id": "6d7524e2",
   "metadata": {
    "scrolled": true
   },
   "outputs": [
    {
     "data": {
      "text/plain": [
       "[('Mumbai',), ('London',), ('Cairo',)]"
      ]
     },
     "execution_count": 108,
     "metadata": {},
     "output_type": "execute_result"
    }
   ],
   "source": [
    "cur.execute('SELECT distinct city FROM ProblemSet')\n",
    "cur.fetchall()"
   ]
  },
  {
   "cell_type": "code",
   "execution_count": 132,
   "id": "767e74a2",
   "metadata": {},
   "outputs": [
    {
     "name": "stdout",
     "output_type": "stream",
     "text": [
      "[('Mumbai', 'India', 'Winter', 24.8, 5.9), ('Mumbai', 'India', 'Spring', 28.4, 16.2), ('Mumbai', 'India', 'Summer', 27.9, 1549.4), ('Mumbai', 'India', 'Fall', 27.6, 346.0)]\n"
     ]
    }
   ],
   "source": [
    "word = 'India'\n",
    "cur.execute('SELECT * FROM ProblemSet WHERE Country = ?', (word,))\n",
    "print(cur.fetchall())"
   ]
  },
  {
   "cell_type": "code",
   "execution_count": 133,
   "id": "1a7390b7",
   "metadata": {},
   "outputs": [
    {
     "name": "stdout",
     "output_type": "stream",
     "text": [
      "[('Mumbai', 'India', 'Fall', 27.6, 346.0), ('London', 'United Kingdom', 'Fall', 10.4, 218.5), ('Cairo', 'Egypt', 'Fall', 22.2, 4.5)]\n"
     ]
    }
   ],
   "source": [
    "word = 'Fall'\n",
    "cur.execute('SELECT * FROM ProblemSet WHERE Season = ?', (word,))\n",
    "print(cur.fetchall())"
   ]
  },
  {
   "cell_type": "code",
   "execution_count": 143,
   "id": "1cea043f",
   "metadata": {},
   "outputs": [
    {
     "ename": "SyntaxError",
     "evalue": "cannot assign to literal (<ipython-input-143-1a819b8b462a>, line 1)",
     "output_type": "error",
     "traceback": [
      "\u001b[1;36m  File \u001b[1;32m\"<ipython-input-143-1a819b8b462a>\"\u001b[1;36m, line \u001b[1;32m1\u001b[0m\n\u001b[1;33m    a=200,b=400\u001b[0m\n\u001b[1;37m      ^\u001b[0m\n\u001b[1;31mSyntaxError\u001b[0m\u001b[1;31m:\u001b[0m cannot assign to literal\n"
     ]
    }
   ],
   "source": [
    "a=200,b=400\n",
    "cur.execute('SELECT City,country,season FROM ProblemSet WHERE rainfall between ? and ?', (raina,rainb))\n",
    "print(cur.fetchall())"
   ]
  },
  {
   "cell_type": "code",
   "execution_count": 141,
   "id": "565b8ebe",
   "metadata": {},
   "outputs": [
    {
     "name": "stdout",
     "output_type": "stream",
     "text": [
      "[('Cairo', 'Egypt', 'Spring', 20.7, 6.5), ('Cairo', 'Egypt', 'Fall', 22.2, 4.5), ('Mumbai', 'India', 'Winter', 24.8, 5.9), ('Mumbai', 'India', 'Fall', 27.6, 346.0), ('Cairo', 'Egypt', 'Summer', 27.7, 0.1), ('Mumbai', 'India', 'Summer', 27.9, 1549.4), ('Mumbai', 'India', 'Spring', 28.4, 16.2)]\n"
     ]
    }
   ],
   "source": [
    "a= 20\n",
    "cur.execute('SELECT * FROM ProblemSet WHERE Temperature > ? order by temperature asc', (a,))\n",
    "print(cur.fetchall())"
   ]
  },
  {
   "cell_type": "code",
   "execution_count": 150,
   "id": "f34470f3",
   "metadata": {},
   "outputs": [
    {
     "name": "stdout",
     "output_type": "stream",
     "text": [
      "[(None,)]\n"
     ]
    }
   ],
   "source": [
    "word = 'Cairo'\n",
    "cur.execute('SELECT sum(rainfall) FROM ProblemSet WHERE country = ?', (word,))\n",
    "print(cur.fetchall())"
   ]
  },
  {
   "cell_type": "code",
   "execution_count": 147,
   "id": "dffd0fba",
   "metadata": {},
   "outputs": [
    {
     "name": "stdout",
     "output_type": "stream",
     "text": [
      "[('Fall', 569.0), ('Spring', 192.29999999999998), ('Summer', 1706.5), ('Winter', 230.1)]\n"
     ]
    }
   ],
   "source": [
    "\n",
    "cur.execute('SELECT season,sum(rainfall) FROM ProblemSet group by season')\n",
    "print(cur.fetchall())"
   ]
  },
  {
   "cell_type": "markdown",
   "id": "801c6d3a",
   "metadata": {},
   "source": [
    "# Question 9"
   ]
  },
  {
   "cell_type": "code",
   "execution_count": 104,
   "id": "620b0485",
   "metadata": {},
   "outputs": [
    {
     "name": "stdout",
     "output_type": "stream",
     "text": [
      "The upper case of list :\n",
      "['THE', 'QUICK', 'BROWN', 'FOX', 'JUMPS', 'OVER', 'THE', 'LAZY', 'DOG'] \n",
      "\n",
      "The lower case list of words :\n",
      "['the', 'quick', 'brown', 'fox', 'jumps', 'over', 'the', 'lazy', 'dog'] \n",
      "\n",
      "The length of each word in the list :\n",
      "[3, 5, 5, 3, 5, 4, 3, 4, 3] \n",
      "\n",
      "The list containing words, the same in uppercase and lowercase and the length of the word : \n",
      "[['THE', 'the', 3], ['QUICK', 'quick', 5], ['BROWN', 'brown', 5], ['FOX', 'fox', 3], ['JUMPS', 'jumps', 5], ['OVER', 'over', 4], ['THE', 'the', 3], ['LAZY', 'lazy', 4], ['DOG', 'dog', 3]] \n",
      "\n",
      "The list of words in list words containing 4 or more characters :\n",
      "['quick', 'brown', 'jumps', 'over', 'lazy']\n"
     ]
    }
   ],
   "source": [
    "words = ['The', 'quick', 'brown', 'fox', 'jumps', 'over','the', 'lazy', 'dog']\n",
    "\n",
    "print(\"The upper case of list :\")\n",
    "print([L.upper() for L in words],\"\\n\")\n",
    "\n",
    "print(\"The lower case list of words :\")\n",
    "print([L.lower() for L in words],\"\\n\")\n",
    "\n",
    "print(\"The length of each word in the list :\")\n",
    "print([len(L) for L in words],\"\\n\")\n",
    "\n",
    "print(\"The list containing words, the same in uppercase and lowercase and the length of the word : \")\n",
    "print([[L.upper(), L.lower(), len(L)] for L in words],\"\\n\")\n",
    "\n",
    "print(\"The list of words in list words containing 4 or more characters :\")\n",
    "print([L for L in words if len(L)>=4])"
   ]
  },
  {
   "cell_type": "code",
   "execution_count": null,
   "id": "f977374c",
   "metadata": {},
   "outputs": [],
   "source": []
  }
 ],
 "metadata": {
  "celltoolbar": "Slideshow",
  "kernelspec": {
   "display_name": "Python 3",
   "language": "python",
   "name": "python3"
  },
  "language_info": {
   "codemirror_mode": {
    "name": "ipython",
    "version": 3
   },
   "file_extension": ".py",
   "mimetype": "text/x-python",
   "name": "python",
   "nbconvert_exporter": "python",
   "pygments_lexer": "ipython3",
   "version": "3.8.8"
  }
 },
 "nbformat": 4,
 "nbformat_minor": 5
}
